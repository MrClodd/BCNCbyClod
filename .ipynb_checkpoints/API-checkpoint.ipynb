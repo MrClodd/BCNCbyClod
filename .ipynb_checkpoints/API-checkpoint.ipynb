{
 "cells": [
  {
   "cell_type": "code",
   "execution_count": 12,
   "id": "43a4cf92",
   "metadata": {},
   "outputs": [],
   "source": [
    "import json\n",
    "import pandas as pd"
   ]
  },
  {
   "cell_type": "code",
   "execution_count": 95,
   "id": "34431a3f",
   "metadata": {},
   "outputs": [],
   "source": [
    "url = 'https://jsonplaceholder.typicode.com/albums'"
   ]
  },
  {
   "cell_type": "code",
   "execution_count": 96,
   "id": "ae051191",
   "metadata": {},
   "outputs": [],
   "source": [
    "albums_data = pd.read_json(url)"
   ]
  },
  {
   "cell_type": "code",
   "execution_count": 97,
   "id": "bff87237",
   "metadata": {},
   "outputs": [
    {
     "data": {
      "text/html": [
       "<div>\n",
       "<style scoped>\n",
       "    .dataframe tbody tr th:only-of-type {\n",
       "        vertical-align: middle;\n",
       "    }\n",
       "\n",
       "    .dataframe tbody tr th {\n",
       "        vertical-align: top;\n",
       "    }\n",
       "\n",
       "    .dataframe thead th {\n",
       "        text-align: right;\n",
       "    }\n",
       "</style>\n",
       "<table border=\"1\" class=\"dataframe\">\n",
       "  <thead>\n",
       "    <tr style=\"text-align: right;\">\n",
       "      <th></th>\n",
       "      <th>userId</th>\n",
       "      <th>id</th>\n",
       "      <th>title</th>\n",
       "    </tr>\n",
       "  </thead>\n",
       "  <tbody>\n",
       "    <tr>\n",
       "      <th>0</th>\n",
       "      <td>1</td>\n",
       "      <td>1</td>\n",
       "      <td>quidem molestiae enim</td>\n",
       "    </tr>\n",
       "    <tr>\n",
       "      <th>1</th>\n",
       "      <td>1</td>\n",
       "      <td>2</td>\n",
       "      <td>sunt qui excepturi placeat culpa</td>\n",
       "    </tr>\n",
       "    <tr>\n",
       "      <th>2</th>\n",
       "      <td>1</td>\n",
       "      <td>3</td>\n",
       "      <td>omnis laborum odio</td>\n",
       "    </tr>\n",
       "    <tr>\n",
       "      <th>3</th>\n",
       "      <td>1</td>\n",
       "      <td>4</td>\n",
       "      <td>non esse culpa molestiae omnis sed optio</td>\n",
       "    </tr>\n",
       "    <tr>\n",
       "      <th>4</th>\n",
       "      <td>1</td>\n",
       "      <td>5</td>\n",
       "      <td>eaque aut omnis a</td>\n",
       "    </tr>\n",
       "  </tbody>\n",
       "</table>\n",
       "</div>"
      ],
      "text/plain": [
       "   userId  id                                     title\n",
       "0       1   1                     quidem molestiae enim\n",
       "1       1   2          sunt qui excepturi placeat culpa\n",
       "2       1   3                        omnis laborum odio\n",
       "3       1   4  non esse culpa molestiae omnis sed optio\n",
       "4       1   5                         eaque aut omnis a"
      ]
     },
     "execution_count": 97,
     "metadata": {},
     "output_type": "execute_result"
    }
   ],
   "source": [
    "albums_data.head(5)"
   ]
  },
  {
   "cell_type": "code",
   "execution_count": 98,
   "id": "bd528039",
   "metadata": {},
   "outputs": [
    {
     "data": {
      "text/plain": [
       "True"
      ]
     },
     "execution_count": 98,
     "metadata": {},
     "output_type": "execute_result"
    }
   ],
   "source": [
    "'title' in albums_data"
   ]
  },
  {
   "cell_type": "code",
   "execution_count": 100,
   "id": "063374d1",
   "metadata": {},
   "outputs": [
    {
     "name": "stdout",
     "output_type": "stream",
     "text": [
      "0                       quidem molestiae enim\n",
      "1            sunt qui excepturi placeat culpa\n",
      "2                          omnis laborum odio\n",
      "3    non esse culpa molestiae omnis sed optio\n",
      "4                           eaque aut omnis a\n",
      "Name: title, dtype: object\n"
     ]
    }
   ],
   "source": [
    "print(title.head(5))"
   ]
  },
  {
   "cell_type": "code",
   "execution_count": 110,
   "id": "b196341d",
   "metadata": {},
   "outputs": [
    {
     "data": {
      "text/plain": [
       "0     True\n",
       "1    False\n",
       "2    False\n",
       "3    False\n",
       "4    False\n",
       "Name: title, dtype: bool"
      ]
     },
     "execution_count": 110,
     "metadata": {},
     "output_type": "execute_result"
    }
   ],
   "source": [
    "albums_data.head(5)[\"title\"].str.lower().str.contains(\"quidem molestiae enim\")"
   ]
  },
  {
   "cell_type": "code",
   "execution_count": 109,
   "id": "cef6d326",
   "metadata": {},
   "outputs": [
    {
     "data": {
      "text/plain": [
       "0    False\n",
       "1     True\n",
       "2    False\n",
       "3    False\n",
       "4    False\n",
       "Name: title, dtype: bool"
      ]
     },
     "execution_count": 109,
     "metadata": {},
     "output_type": "execute_result"
    }
   ],
   "source": [
    "albums_data.head(5)[\"title\"].str.lower().str.contains(\"sunt qui excepturi placeat culpa\")"
   ]
  },
  {
   "cell_type": "code",
   "execution_count": 111,
   "id": "2cdc49c3",
   "metadata": {},
   "outputs": [
    {
     "data": {
      "text/plain": [
       "0    False\n",
       "1    False\n",
       "2     True\n",
       "3    False\n",
       "4    False\n",
       "Name: title, dtype: bool"
      ]
     },
     "execution_count": 111,
     "metadata": {},
     "output_type": "execute_result"
    }
   ],
   "source": [
    "albums_data.head(5)[\"title\"].str.lower().str.contains(\"omnis laborum odio\")"
   ]
  },
  {
   "cell_type": "code",
   "execution_count": 112,
   "id": "d8f9114e",
   "metadata": {},
   "outputs": [
    {
     "data": {
      "text/plain": [
       "0    False\n",
       "1    False\n",
       "2    False\n",
       "3     True\n",
       "4    False\n",
       "Name: title, dtype: bool"
      ]
     },
     "execution_count": 112,
     "metadata": {},
     "output_type": "execute_result"
    }
   ],
   "source": [
    "albums_data.head(5)[\"title\"].str.lower().str.contains(\"non esse culpa molestiae omnis sed optio\")"
   ]
  },
  {
   "cell_type": "code",
   "execution_count": 113,
   "id": "001f024b",
   "metadata": {},
   "outputs": [
    {
     "data": {
      "text/plain": [
       "0    False\n",
       "1    False\n",
       "2    False\n",
       "3    False\n",
       "4     True\n",
       "Name: title, dtype: bool"
      ]
     },
     "execution_count": 113,
     "metadata": {},
     "output_type": "execute_result"
    }
   ],
   "source": [
    "albums_data.head(5)[\"title\"].str.lower().str.contains(\"eaque aut omnis a\")"
   ]
  }
 ],
 "metadata": {
  "kernelspec": {
   "display_name": "Python 3 (ipykernel)",
   "language": "python",
   "name": "python3"
  },
  "language_info": {
   "codemirror_mode": {
    "name": "ipython",
    "version": 3
   },
   "file_extension": ".py",
   "mimetype": "text/x-python",
   "name": "python",
   "nbconvert_exporter": "python",
   "pygments_lexer": "ipython3",
   "version": "3.11.0"
  }
 },
 "nbformat": 4,
 "nbformat_minor": 5
}
