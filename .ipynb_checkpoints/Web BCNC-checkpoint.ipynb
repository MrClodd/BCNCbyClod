{
 "cells": [
  {
   "cell_type": "code",
   "execution_count": 38,
   "id": "4b4fff36",
   "metadata": {},
   "outputs": [],
   "source": [
    "import selenium\n",
    "from selenium import webdriver\n",
    "from selenium.webdriver.common.keys import Keys\n",
    "from selenium.webdriver.chrome.service import Service\n",
    "from selenium.webdriver.common.by import By\n",
    "import time"
   ]
  },
  {
   "cell_type": "code",
   "execution_count": 142,
   "id": "d46c2ba9",
   "metadata": {},
   "outputs": [
    {
     "name": "stdout",
     "output_type": "stream",
     "text": [
      "None\n"
     ]
    }
   ],
   "source": [
    "s=Service(\"C:/Users/claud/Documentos/GitHub/BCNCbyClod/webdrivers/chromedriver.exe\")\n",
    "driver = webdriver.Chrome(service=s)\n",
    "url = \"https://bcncgroup.com/\"\n",
    "driver.get(url)\n",
    "driver.maximize_window()\n",
    "time.sleep(6)\n",
    "cookies = driver.find_element(By.XPATH, \"/html/body/div[1]/div/a[2]\").click()\n",
    "print(cookies)"
   ]
  },
  {
   "cell_type": "code",
   "execution_count": 140,
   "id": "775b58c9",
   "metadata": {
    "scrolled": true
   },
   "outputs": [
    {
     "name": "stdout",
     "output_type": "stream",
     "text": [
      "HOME\n"
     ]
    }
   ],
   "source": [
    "text = driver.find_element(By.XPATH, \"//body/main/div[1]/div[1]/div[1]/nav[1]/a[1]\").text\n",
    "print(text)\n",
    "time.sleep(2)"
   ]
  },
  {
   "cell_type": "code",
   "execution_count": 141,
   "id": "dcc52d8f",
   "metadata": {},
   "outputs": [
    {
     "name": "stdout",
     "output_type": "stream",
     "text": [
      "WHO WE ARE\n"
     ]
    }
   ],
   "source": [
    "text = driver.find_element(By.XPATH, \"(//a[normalize-space()='Who we are'])[1]\").text\n",
    "print(text)\n",
    "time.sleep(2)"
   ]
  },
  {
   "cell_type": "code",
   "execution_count": null,
   "id": "c0206da8",
   "metadata": {},
   "outputs": [],
   "source": []
  }
 ],
 "metadata": {
  "kernelspec": {
   "display_name": "Python 3 (ipykernel)",
   "language": "python",
   "name": "python3"
  },
  "language_info": {
   "codemirror_mode": {
    "name": "ipython",
    "version": 3
   },
   "file_extension": ".py",
   "mimetype": "text/x-python",
   "name": "python",
   "nbconvert_exporter": "python",
   "pygments_lexer": "ipython3",
   "version": "3.11.0"
  }
 },
 "nbformat": 4,
 "nbformat_minor": 5
}
