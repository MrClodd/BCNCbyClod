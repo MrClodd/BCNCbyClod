{
 "cells": [
  {
   "cell_type": "code",
   "execution_count": 28,
   "id": "4b4fff36",
   "metadata": {},
   "outputs": [],
   "source": [
    "from selenium import webdriver\n",
    "from selenium.webdriver.chrome.service import Service\n",
    "import time"
   ]
  },
  {
   "cell_type": "code",
   "execution_count": 30,
   "id": "d46c2ba9",
   "metadata": {},
   "outputs": [],
   "source": [
    "s=Service(\"C:/Users/claud/Documentos/GitHub/BCNCbyClod/webdrivers/chromedriver.exe\")\n",
    "driver = webdriver.Chrome(service=s)\n",
    "url = \"https://bcncgroup.com/\"\n",
    "driver.get(url)"
   ]
  },
  {
   "cell_type": "code",
   "execution_count": null,
   "id": "e1e03015",
   "metadata": {},
   "outputs": [],
   "source": []
  }
 ],
 "metadata": {
  "kernelspec": {
   "display_name": "Python 3 (ipykernel)",
   "language": "python",
   "name": "python3"
  },
  "language_info": {
   "codemirror_mode": {
    "name": "ipython",
    "version": 3
   },
   "file_extension": ".py",
   "mimetype": "text/x-python",
   "name": "python",
   "nbconvert_exporter": "python",
   "pygments_lexer": "ipython3",
   "version": "3.11.0"
  }
 },
 "nbformat": 4,
 "nbformat_minor": 5
}
